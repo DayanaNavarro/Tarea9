{
 "cells": [
  {
   "cell_type": "markdown",
   "metadata": {},
   "source": [
    "<img style=\"float: left; margin: 30px 15px 15px 15px;\" src=\"https://pngimage.net/wp-content/uploads/2018/06/logo-iteso-png-5.png\" width=\"300\" height=\"500\" /> \n",
    "    \n",
    "    \n",
    "### <font color='navy'> Simulación de procesos financieros. \n",
    "\n",
    "**Nombres:** Dayana Navarro Valencia y Juan Pablo Ruiz Magaña.\n",
    "\n",
    "**Fecha:** 27 de Abril 2021:\n",
    "\n",
    "**Expediente** : 721470 y 721093\n",
    "    \n",
    "**Profesor:** Oscar David Jaramillo Zuluaga.\n",
    "    \n",
    "**Link del Repositorio**:https://github.com/JuanPablo2019/Tarea9.git\n",
    "\n",
    "# Tarea 9:  Clase 22"
   ]
  },
  {
   "cell_type": "markdown",
   "metadata": {},
   "source": [
    "## Enunciado de tarea \n",
    "# <font color = 'red'> Tarea: </font>\n",
    "\n",
    "Replicar el procedimiento anterior para valoración de opciones 'call', pero en este caso para opciones tipo 'put'."
   ]
  },
  {
   "cell_type": "markdown",
   "metadata": {},
   "source": [
    "### `Respuesta de Dyana`"
   ]
  },
  {
   "cell_type": "code",
   "execution_count": null,
   "metadata": {},
   "outputs": [],
   "source": [
    "# Código de solución \n",
    ".\n",
    ".\n",
    ".\n",
    ".\n"
   ]
  },
  {
   "cell_type": "code",
   "execution_count": null,
   "metadata": {},
   "outputs": [],
   "source": []
  },
  {
   "cell_type": "code",
   "execution_count": null,
   "metadata": {},
   "outputs": [],
   "source": []
  },
  {
   "cell_type": "code",
   "execution_count": null,
   "metadata": {},
   "outputs": [],
   "source": []
  },
  {
   "cell_type": "code",
   "execution_count": null,
   "metadata": {},
   "outputs": [],
   "source": []
  },
  {
   "cell_type": "markdown",
   "metadata": {},
   "source": [
    "### `Respuesta Juan Pablo`"
   ]
  },
  {
   "cell_type": "code",
   "execution_count": 1,
   "metadata": {},
   "outputs": [],
   "source": [
    "#importar los paquetes que se van a usar\n",
    "import pandas as pd\n",
    "import pandas_datareader.data as web\n",
    "import numpy as np\n",
    "import datetime\n",
    "import matplotlib.pyplot as plt\n",
    "import scipy.stats as st\n",
    "import seaborn as sns\n",
    "%matplotlib inline\n",
    "#algunas opciones para Pandas\n",
    "pd.set_option('display.notebook_repr_html', True)\n",
    "pd.set_option('display.max_columns', 6)\n",
    "pd.set_option('display.max_rows', 10)\n",
    "pd.set_option('display.width', 78)\n",
    "pd.set_option('precision', 3)"
   ]
  },
  {
   "cell_type": "markdown",
   "metadata": {},
   "source": [
    "### `Elección del activo:` _Disney_"
   ]
  },
  {
   "cell_type": "markdown",
   "metadata": {},
   "source": [
    "Obtengo el precio de cierre de Disney del año pasado hasta la fecha."
   ]
  },
  {
   "cell_type": "code",
   "execution_count": 12,
   "metadata": {},
   "outputs": [],
   "source": [
    "# Función para descargar precios de cierre ajustados:\n",
    "def get_adj_closes(tickers, start_date=None, end_date=None):\n",
    "    # Fecha inicio por defecto (start_date='2010-01-01') y fecha fin por defecto (end_date=today)\n",
    "    # Descargamos DataFrame con todos los datos\n",
    "    closes = web.DataReader(name=tickers, data_source='yahoo', start=start_date, end=end_date)\n",
    "    # Solo necesitamos los precios ajustados en el cierre\n",
    "    closes = closes['Adj Close']\n",
    "    # Se ordenan los índices de manera ascendente\n",
    "    closes.sort_index(inplace=True)\n",
    "    return closes"
   ]
  },
  {
   "cell_type": "code",
   "execution_count": 13,
   "metadata": {},
   "outputs": [
    {
     "data": {
      "text/html": [
       "<div>\n",
       "<style scoped>\n",
       "    .dataframe tbody tr th:only-of-type {\n",
       "        vertical-align: middle;\n",
       "    }\n",
       "\n",
       "    .dataframe tbody tr th {\n",
       "        vertical-align: top;\n",
       "    }\n",
       "\n",
       "    .dataframe thead th {\n",
       "        text-align: right;\n",
       "    }\n",
       "</style>\n",
       "<table border=\"1\" class=\"dataframe\">\n",
       "  <thead>\n",
       "    <tr style=\"text-align: right;\">\n",
       "      <th>Symbols</th>\n",
       "      <th>DIS</th>\n",
       "    </tr>\n",
       "    <tr>\n",
       "      <th>Date</th>\n",
       "      <th></th>\n",
       "    </tr>\n",
       "  </thead>\n",
       "  <tbody>\n",
       "    <tr>\n",
       "      <th>2018-01-02</th>\n",
       "      <td>108.726</td>\n",
       "    </tr>\n",
       "    <tr>\n",
       "      <th>2018-01-03</th>\n",
       "      <td>109.193</td>\n",
       "    </tr>\n",
       "    <tr>\n",
       "      <th>2018-01-04</th>\n",
       "      <td>109.144</td>\n",
       "    </tr>\n",
       "    <tr>\n",
       "      <th>2018-01-05</th>\n",
       "      <td>108.551</td>\n",
       "    </tr>\n",
       "    <tr>\n",
       "      <th>2018-01-08</th>\n",
       "      <td>106.995</td>\n",
       "    </tr>\n",
       "  </tbody>\n",
       "</table>\n",
       "</div>"
      ],
      "text/plain": [
       "Symbols         DIS\n",
       "Date               \n",
       "2018-01-02  108.726\n",
       "2018-01-03  109.193\n",
       "2018-01-04  109.144\n",
       "2018-01-05  108.551\n",
       "2018-01-08  106.995"
      ]
     },
     "execution_count": 13,
     "metadata": {},
     "output_type": "execute_result"
    }
   ],
   "source": [
    "ticker = ['DIS']\n",
    "start_date = '2018-01-01'\n",
    "\n",
    "closes_dis = get_adj_closes(ticker,start_date)\n",
    "closes_dis.head()"
   ]
  },
  {
   "cell_type": "code",
   "execution_count": 15,
   "metadata": {},
   "outputs": [
    {
     "data": {
      "image/png": "[encoded data removed]",
      "text/plain": [
       "<Figure size 576x432 with 1 Axes>"
      ]
     },
     "metadata": {
      "needs_background": "light"
     },
     "output_type": "display_data"
    }
   ],
   "source": [
    "closes_dis.plot(figsize=[8,6])\n",
    "plt.title('DISNEY ADJ CLOSES')\n",
    "plt.legend(ticker)\n",
    "plt.show()"
   ]
  },
  {
   "cell_type": "markdown",
   "metadata": {},
   "source": [
    "Descarga de los datos de la opción."
   ]
  },
  {
   "cell_type": "code",
   "execution_count": 16,
   "metadata": {},
   "outputs": [
    {
     "data": {
      "text/html": [
       "<div>\n",
       "<style scoped>\n",
       "    .dataframe tbody tr th:only-of-type {\n",
       "        vertical-align: middle;\n",
       "    }\n",
       "\n",
       "    .dataframe tbody tr th {\n",
       "        vertical-align: top;\n",
       "    }\n",
       "\n",
       "    .dataframe thead th {\n",
       "        text-align: right;\n",
       "    }\n",
       "</style>\n",
       "<table border=\"1\" class=\"dataframe\">\n",
       "  <thead>\n",
       "    <tr style=\"text-align: right;\">\n",
       "      <th></th>\n",
       "      <th>Strike</th>\n",
       "      <th>Type</th>\n",
       "      <th>Symbol</th>\n",
       "      <th>...</th>\n",
       "      <th>Quote_Time</th>\n",
       "      <th>Last_Trade_Date</th>\n",
       "      <th>JSON</th>\n",
       "    </tr>\n",
       "    <tr>\n",
       "      <th>Expiry</th>\n",
       "      <th></th>\n",
       "      <th></th>\n",
       "      <th></th>\n",
       "      <th></th>\n",
       "      <th></th>\n",
       "      <th></th>\n",
       "      <th></th>\n",
       "    </tr>\n",
       "  </thead>\n",
       "  <tbody>\n",
       "    <tr>\n",
       "      <th>2021-04-30</th>\n",
       "      <td>177.5</td>\n",
       "      <td>call</td>\n",
       "      <td>DIS210430C00177500</td>\n",
       "      <td>...</td>\n",
       "      <td>2021-04-27 23:59:02</td>\n",
       "      <td>2021-04-27 17:40:25</td>\n",
       "      <td>{'contractSymbol': 'DIS210430C00177500', 'stri...</td>\n",
       "    </tr>\n",
       "    <tr>\n",
       "      <th>2021-04-30</th>\n",
       "      <td>217.5</td>\n",
       "      <td>put</td>\n",
       "      <td>DIS210430P00217500</td>\n",
       "      <td>...</td>\n",
       "      <td>2021-04-27 23:59:02</td>\n",
       "      <td>2021-03-16 16:38:35</td>\n",
       "      <td>{'contractSymbol': 'DIS210430P00217500', 'stri...</td>\n",
       "    </tr>\n",
       "    <tr>\n",
       "      <th>2021-04-30</th>\n",
       "      <td>220.0</td>\n",
       "      <td>call</td>\n",
       "      <td>DIS210430C00220000</td>\n",
       "      <td>...</td>\n",
       "      <td>2021-04-27 23:59:02</td>\n",
       "      <td>2021-04-27 19:34:53</td>\n",
       "      <td>{'contractSymbol': 'DIS210430C00220000', 'stri...</td>\n",
       "    </tr>\n",
       "    <tr>\n",
       "      <th>2021-04-30</th>\n",
       "      <td>220.0</td>\n",
       "      <td>put</td>\n",
       "      <td>DIS210430P00220000</td>\n",
       "      <td>...</td>\n",
       "      <td>2021-04-27 23:59:02</td>\n",
       "      <td>2021-03-15 04:01:18</td>\n",
       "      <td>{'contractSymbol': 'DIS210430P00220000', 'stri...</td>\n",
       "    </tr>\n",
       "    <tr>\n",
       "      <th>2021-04-30</th>\n",
       "      <td>195.0</td>\n",
       "      <td>call</td>\n",
       "      <td>DIS210430C00195000</td>\n",
       "      <td>...</td>\n",
       "      <td>2021-04-27 23:59:02</td>\n",
       "      <td>2021-04-27 19:57:20</td>\n",
       "      <td>{'contractSymbol': 'DIS210430C00195000', 'stri...</td>\n",
       "    </tr>\n",
       "    <tr>\n",
       "      <th>...</th>\n",
       "      <td>...</td>\n",
       "      <td>...</td>\n",
       "      <td>...</td>\n",
       "      <td>...</td>\n",
       "      <td>...</td>\n",
       "      <td>...</td>\n",
       "      <td>...</td>\n",
       "    </tr>\n",
       "    <tr>\n",
       "      <th>2023-01-20</th>\n",
       "      <td>80.0</td>\n",
       "      <td>put</td>\n",
       "      <td>DIS230120P00080000</td>\n",
       "      <td>...</td>\n",
       "      <td>2021-04-27 23:59:02</td>\n",
       "      <td>2021-04-15 14:58:55</td>\n",
       "      <td>{'contractSymbol': 'DIS230120P00080000', 'stri...</td>\n",
       "    </tr>\n",
       "    <tr>\n",
       "      <th>2023-01-20</th>\n",
       "      <td>130.0</td>\n",
       "      <td>put</td>\n",
       "      <td>DIS230120P00130000</td>\n",
       "      <td>...</td>\n",
       "      <td>2021-04-27 23:59:02</td>\n",
       "      <td>2021-04-27 18:14:45</td>\n",
       "      <td>{'contractSymbol': 'DIS230120P00130000', 'stri...</td>\n",
       "    </tr>\n",
       "    <tr>\n",
       "      <th>2023-01-20</th>\n",
       "      <td>230.0</td>\n",
       "      <td>put</td>\n",
       "      <td>DIS230120P00230000</td>\n",
       "      <td>...</td>\n",
       "      <td>2021-04-27 23:59:02</td>\n",
       "      <td>2021-04-21 16:41:58</td>\n",
       "      <td>{'contractSymbol': 'DIS230120P00230000', 'stri...</td>\n",
       "    </tr>\n",
       "    <tr>\n",
       "      <th>2023-01-20</th>\n",
       "      <td>140.0</td>\n",
       "      <td>call</td>\n",
       "      <td>DIS230120C00140000</td>\n",
       "      <td>...</td>\n",
       "      <td>2021-04-27 23:59:02</td>\n",
       "      <td>2021-04-26 17:34:37</td>\n",
       "      <td>{'contractSymbol': 'DIS230120C00140000', 'stri...</td>\n",
       "    </tr>\n",
       "    <tr>\n",
       "      <th>2023-01-20</th>\n",
       "      <td>290.0</td>\n",
       "      <td>put</td>\n",
       "      <td>DIS230120P00290000</td>\n",
       "      <td>...</td>\n",
       "      <td>2021-04-27 23:59:02</td>\n",
       "      <td>2021-04-19 15:01:33</td>\n",
       "      <td>{'contractSymbol': 'DIS230120P00290000', 'stri...</td>\n",
       "    </tr>\n",
       "  </tbody>\n",
       "</table>\n",
       "<p>880 rows × 18 columns</p>\n",
       "</div>"
      ],
      "text/plain": [
       "            Strike  Type              Symbol  ...          Quote_Time  \\\n",
       "Expiry                                        ...                       \n",
       "2021-04-30   177.5  call  DIS210430C00177500  ... 2021-04-27 23:59:02   \n",
       "2021-04-30   217.5   put  DIS210430P00217500  ... 2021-04-27 23:59:02   \n",
       "2021-04-30   220.0  call  DIS210430C00220000  ... 2021-04-27 23:59:02   \n",
       "2021-04-30   220.0   put  DIS210430P00220000  ... 2021-04-27 23:59:02   \n",
       "2021-04-30   195.0  call  DIS210430C00195000  ... 2021-04-27 23:59:02   \n",
       "...            ...   ...                 ...  ...                 ...   \n",
       "2023-01-20    80.0   put  DIS230120P00080000  ... 2021-04-27 23:59:02   \n",
       "2023-01-20   130.0   put  DIS230120P00130000  ... 2021-04-27 23:59:02   \n",
       "2023-01-20   230.0   put  DIS230120P00230000  ... 2021-04-27 23:59:02   \n",
       "2023-01-20   140.0  call  DIS230120C00140000  ... 2021-04-27 23:59:02   \n",
       "2023-01-20   290.0   put  DIS230120P00290000  ... 2021-04-27 23:59:02   \n",
       "\n",
       "               Last_Trade_Date  \\\n",
       "Expiry                           \n",
       "2021-04-30 2021-04-27 17:40:25   \n",
       "2021-04-30 2021-03-16 16:38:35   \n",
       "2021-04-30 2021-04-27 19:34:53   \n",
       "2021-04-30 2021-03-15 04:01:18   \n",
       "2021-04-30 2021-04-27 19:57:20   \n",
       "...                        ...   \n",
       "2023-01-20 2021-04-15 14:58:55   \n",
       "2023-01-20 2021-04-27 18:14:45   \n",
       "2023-01-20 2021-04-21 16:41:58   \n",
       "2023-01-20 2021-04-26 17:34:37   \n",
       "2023-01-20 2021-04-19 15:01:33   \n",
       "\n",
       "                                                         JSON  \n",
       "Expiry                                                         \n",
       "2021-04-30  {'contractSymbol': 'DIS210430C00177500', 'stri...  \n",
       "2021-04-30  {'contractSymbol': 'DIS210430P00217500', 'stri...  \n",
       "2021-04-30  {'contractSymbol': 'DIS210430C00220000', 'stri...  \n",
       "2021-04-30  {'contractSymbol': 'DIS210430P00220000', 'stri...  \n",
       "2021-04-30  {'contractSymbol': 'DIS210430C00195000', 'stri...  \n",
       "...                                                       ...  \n",
       "2023-01-20  {'contractSymbol': 'DIS230120P00080000', 'stri...  \n",
       "2023-01-20  {'contractSymbol': 'DIS230120P00130000', 'stri...  \n",
       "2023-01-20  {'contractSymbol': 'DIS230120P00230000', 'stri...  \n",
       "2023-01-20  {'contractSymbol': 'DIS230120C00140000', 'stri...  \n",
       "2023-01-20  {'contractSymbol': 'DIS230120P00290000', 'stri...  \n",
       "\n",
       "[880 rows x 18 columns]"
      ]
     },
     "execution_count": 16,
     "metadata": {},
     "output_type": "execute_result"
    }
   ],
   "source": [
    "dis = web.YahooOptions('DIS')\n",
    "dis_opt = dis.get_all_data().reset_index()\n",
    "dis_opt.set_index('Expiry').sort_index()"
   ]
  },
  {
   "cell_type": "code",
   "execution_count": 57,
   "metadata": {},
   "outputs": [
    {
     "data": {
      "text/html": [
       "<div>\n",
       "<style scoped>\n",
       "    .dataframe tbody tr th:only-of-type {\n",
       "        vertical-align: middle;\n",
       "    }\n",
       "\n",
       "    .dataframe tbody tr th {\n",
       "        vertical-align: top;\n",
       "    }\n",
       "\n",
       "    .dataframe thead th {\n",
       "        text-align: right;\n",
       "    }\n",
       "</style>\n",
       "<table border=\"1\" class=\"dataframe\">\n",
       "  <thead>\n",
       "    <tr style=\"text-align: right;\">\n",
       "      <th></th>\n",
       "      <th>Strike</th>\n",
       "      <th>Expiry</th>\n",
       "      <th>Type</th>\n",
       "      <th>...</th>\n",
       "      <th>Quote_Time</th>\n",
       "      <th>Last_Trade_Date</th>\n",
       "      <th>JSON</th>\n",
       "    </tr>\n",
       "  </thead>\n",
       "  <tbody>\n",
       "    <tr>\n",
       "      <th>224</th>\n",
       "      <td>130.0</td>\n",
       "      <td>2023-01-20</td>\n",
       "      <td>put</td>\n",
       "      <td>...</td>\n",
       "      <td>2021-04-27 23:59:02</td>\n",
       "      <td>2021-04-27 18:14:45</td>\n",
       "      <td>{'contractSymbol': 'DIS230120P00130000', 'stri...</td>\n",
       "    </tr>\n",
       "  </tbody>\n",
       "</table>\n",
       "<p>1 rows × 19 columns</p>\n",
       "</div>"
      ],
      "text/plain": [
       "     Strike     Expiry Type  ...          Quote_Time     Last_Trade_Date  \\\n",
       "224   130.0 2023-01-20  put  ... 2021-04-27 23:59:02 2021-04-27 18:14:45   \n",
       "\n",
       "                                                  JSON  \n",
       "224  {'contractSymbol': 'DIS230120P00130000', 'stri...  \n",
       "\n",
       "[1 rows x 19 columns]"
      ]
     },
     "execution_count": 57,
     "metadata": {},
     "output_type": "execute_result"
    }
   ],
   "source": [
    "K = 130\n",
    "indice_opt = dis_opt.loc[(dis_opt.Type=='put') & (dis_opt.Strike==K) & (dis_opt.Expiry=='2023-01-20')]\n",
    "indice_opt\n"
   ]
  },
  {
   "cell_type": "code",
   "execution_count": 58,
   "metadata": {},
   "outputs": [
    {
     "data": {
      "text/plain": [
       "{'contractSymbol': 'DIS230120P00130000',\n",
       " 'strike': 130.0,\n",
       " 'currency': 'USD',\n",
       " 'lastPrice': 6.5,\n",
       " 'change': -0.1500001,\n",
       " 'percentChange': -2.2556405,\n",
       " 'volume': 1,\n",
       " 'openInterest': 5529,\n",
       " 'bid': 6.35,\n",
       " 'ask': 6.9,\n",
       " 'contractSize': 'REGULAR',\n",
       " 'expiration': 1674172800,\n",
       " 'lastTradeDate': 1619547285,\n",
       " 'impliedVolatility': 0.3127815304565429,\n",
       " 'inTheMoney': False}"
      ]
     },
     "execution_count": 58,
     "metadata": {},
     "output_type": "execute_result"
    }
   ],
   "source": [
    "i_opt = indice_opt.index\n",
    "opcion_valuar = dis_opt.loc[i_opt[0]]\n",
    "opcion_valuar['JSON']"
   ]
  },
  {
   "cell_type": "code",
   "execution_count": 43,
   "metadata": {},
   "outputs": [
    {
     "name": "stdout",
     "output_type": "stream",
     "text": [
      "Precio del activo subyacente actual =  184.8\n"
     ]
    }
   ],
   "source": [
    "print('Precio del activo subyacente actual = ',opcion_valuar.Underlying_Price)"
   ]
  },
  {
   "cell_type": "markdown",
   "metadata": {},
   "source": [
    "### `Simulación usando rendimiento simple`\n",
    "\n",
    ">Suponemos que los rendimientos $r\\sim N(\\mu,\\sigma_{2})$ "
   ]
  },
  {
   "cell_type": "code",
   "execution_count": 46,
   "metadata": {},
   "outputs": [
    {
     "data": {
      "text/html": [
       "<div>\n",
       "<style scoped>\n",
       "    .dataframe tbody tr th:only-of-type {\n",
       "        vertical-align: middle;\n",
       "    }\n",
       "\n",
       "    .dataframe tbody tr th {\n",
       "        vertical-align: top;\n",
       "    }\n",
       "\n",
       "    .dataframe thead th {\n",
       "        text-align: right;\n",
       "    }\n",
       "</style>\n",
       "<table border=\"1\" class=\"dataframe\">\n",
       "  <thead>\n",
       "    <tr style=\"text-align: right;\">\n",
       "      <th>Symbols</th>\n",
       "      <th>DIS</th>\n",
       "    </tr>\n",
       "    <tr>\n",
       "      <th>Date</th>\n",
       "      <th></th>\n",
       "    </tr>\n",
       "  </thead>\n",
       "  <tbody>\n",
       "    <tr>\n",
       "      <th>2018-01-03</th>\n",
       "      <td>4.293e-03</td>\n",
       "    </tr>\n",
       "    <tr>\n",
       "      <th>2018-01-04</th>\n",
       "      <td>-4.452e-04</td>\n",
       "    </tr>\n",
       "    <tr>\n",
       "      <th>2018-01-05</th>\n",
       "      <td>-5.435e-03</td>\n",
       "    </tr>\n",
       "    <tr>\n",
       "      <th>2018-01-08</th>\n",
       "      <td>-1.433e-02</td>\n",
       "    </tr>\n",
       "    <tr>\n",
       "      <th>2018-01-09</th>\n",
       "      <td>-7.272e-04</td>\n",
       "    </tr>\n",
       "    <tr>\n",
       "      <th>...</th>\n",
       "      <td>...</td>\n",
       "    </tr>\n",
       "    <tr>\n",
       "      <th>2021-04-21</th>\n",
       "      <td>1.751e-03</td>\n",
       "    </tr>\n",
       "    <tr>\n",
       "      <th>2021-04-22</th>\n",
       "      <td>-1.911e-03</td>\n",
       "    </tr>\n",
       "    <tr>\n",
       "      <th>2021-04-23</th>\n",
       "      <td>1.423e-03</td>\n",
       "    </tr>\n",
       "    <tr>\n",
       "      <th>2021-04-26</th>\n",
       "      <td>6.830e-03</td>\n",
       "    </tr>\n",
       "    <tr>\n",
       "      <th>2021-04-27</th>\n",
       "      <td>2.008e-03</td>\n",
       "    </tr>\n",
       "  </tbody>\n",
       "</table>\n",
       "<p>834 rows × 1 columns</p>\n",
       "</div>"
      ],
      "text/plain": [
       "Symbols           DIS\n",
       "Date                 \n",
       "2018-01-03  4.293e-03\n",
       "2018-01-04 -4.452e-04\n",
       "2018-01-05 -5.435e-03\n",
       "2018-01-08 -1.433e-02\n",
       "2018-01-09 -7.272e-04\n",
       "...               ...\n",
       "2021-04-21  1.751e-03\n",
       "2021-04-22 -1.911e-03\n",
       "2021-04-23  1.423e-03\n",
       "2021-04-26  6.830e-03\n",
       "2021-04-27  2.008e-03\n",
       "\n",
       "[834 rows x 1 columns]"
      ]
     },
     "execution_count": 46,
     "metadata": {},
     "output_type": "execute_result"
    }
   ],
   "source": [
    "ret = closes_dis.pct_change().iloc[1:]"
   ]
  },
  {
   "cell_type": "markdown",
   "metadata": {},
   "source": [
    ">Obtengo la media y su desviación estándar."
   ]
  },
  {
   "cell_type": "code",
   "execution_count": 47,
   "metadata": {},
   "outputs": [
    {
     "data": {
      "text/plain": [
       "(0.0008485852183275683, 0.02077946119297525)"
      ]
     },
     "execution_count": 47,
     "metadata": {},
     "output_type": "execute_result"
    }
   ],
   "source": [
    "mu = ret.mean()[0]\n",
    "sigma = ret.std()[0]\n",
    "\n",
    "mu,sigma"
   ]
  },
  {
   "cell_type": "markdown",
   "metadata": {},
   "source": [
    ">Obtengo un rango de fechas"
   ]
  },
  {
   "cell_type": "code",
   "execution_count": 51,
   "metadata": {},
   "outputs": [
    {
     "data": {
      "text/plain": [
       "3"
      ]
     },
     "execution_count": 51,
     "metadata": {},
     "output_type": "execute_result"
    }
   ],
   "source": [
    "from datetime import date\n",
    "\n",
    "today = pd.to_datetime(date.today())\n",
    "expiry = opcion_valuar.Expiry\n",
    "\n",
    "ndays = (expiry-today).days\n",
    "nscen = 1000\n",
    "dates = pd.date_range(start=today, periods = ndays)\n",
    "ndays "
   ]
  }
 ],
 "metadata": {
  "kernelspec": {
   "display_name": "Python 3",
   "language": "python",
   "name": "python3"
  },
  "language_info": {
   "codemirror_mode": {
    "name": "ipython",
    "version": 3
   },
   "file_extension": ".py",
   "mimetype": "text/x-python",
   "name": "python",
   "nbconvert_exporter": "python",
   "pygments_lexer": "ipython3",
   "version": "3.8.5"
  }
 },
 "nbformat": 4,
 "nbformat_minor": 2
}
